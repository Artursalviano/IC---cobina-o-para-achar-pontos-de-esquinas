{
 "cells": [
  {
   "cell_type": "code",
   "execution_count": 2,
   "metadata": {},
   "outputs": [
    {
     "data": {
      "text/plain": [
       "Text(0.5, 1.0, 'Gráfico do dataset.')"
      ]
     },
     "execution_count": 2,
     "metadata": {},
     "output_type": "execute_result"
    },
    {
     "data": {
      "image/png": "[encoded data removed]",
      "text/plain": [
       "<Figure size 432x288 with 1 Axes>"
      ]
     },
     "metadata": {
      "needs_background": "light"
     },
     "output_type": "display_data"
    }
   ],
   "source": [
    "from numpy import *\n",
    "import matplotlib.pyplot as plt\n",
    "\n",
    "x, y = loadtxt('ic23dataset2.txt',unpack=True)\n",
    "N=len(x)\n",
    "\n",
    "plt.figure()\n",
    "plt.plot(x,y,'ob')\n",
    "plt.title('Gráfico do dataset.')\n"
   ]
  },
  {
   "cell_type": "code",
   "execution_count": 12,
   "metadata": {},
   "outputs": [
    {
     "name": "stdout",
     "output_type": "stream",
     "text": [
      "Escolha dos 4 pontos de esquina [-4.0909   -0.65657  -0.050505  3.2828  ] .\n",
      "Calculando matriz A.\n",
      "Resolvendo o problema.\n",
      "Soma dos quadrados dos resíduos: 79.27546517887312\n"
     ]
    },
    {
     "data": {
      "image/png": "[encoded data removed]",
      "text/plain": [
       "<Figure size 432x288 with 1 Axes>"
      ]
     },
     "metadata": {
      "needs_background": "light"
     },
     "output_type": "display_data"
    },
    {
     "data": {
      "image/png": "[encoded data removed]",
      "text/plain": [
       "<Figure size 432x288 with 1 Axes>"
      ]
     },
     "metadata": {
      "needs_background": "light"
     },
     "output_type": "display_data"
    }
   ],
   "source": [
    "# k = 2\n",
    "\n",
    "#a=array([0,3])\n",
    "#a=array([0.35354, 3.2828])\n",
    "#k=len(a)\n",
    "#print('Escolha dos',k,'pontos de esquina',a,'.')\n",
    "#funbase=[lambda x: ones(size(x)),lambda x: x]\n",
    "#for i in range(k):\n",
    "#    funbase.append((lambda z: lambda x: maximum(x-z,0))(a[i]))\n",
    "\n",
    "############################################################################   \n",
    "\n",
    "#k = 3\n",
    "\n",
    "#b=array([-4,0,3])\n",
    "#b = ([-3.9899  ,  0.050505,  3.2828 ])\n",
    "#k=len(b)\n",
    "#print('Escolha dos',k,'pontos de esquina',b,'.')\n",
    "#funbase=[lambda x: ones(size(x)),lambda x: x] \n",
    "#for i in range(k):\n",
    "#    funbase.append((lambda z: lambda x: maximum(x-z,0))(b[i]))\n",
    "\n",
    "############################################################################  \n",
    "\n",
    "# k = 4\n",
    "\n",
    "#c=array([-4,-1,0,3])\n",
    "c = array([-4.0909  , -0.65657 , -0.050505,  3.2828  ])\n",
    "k=len(c)\n",
    "print('Escolha dos',k,'pontos de esquina',c,'.')\n",
    "funbase=[lambda x: ones(size(x)),lambda x: x] \n",
    "for i in range(k):\n",
    "    funbase.append((lambda z: lambda x: maximum(x-z,0))(c[i]))\n",
    "    \n",
    "\n",
    "\n",
    "print('Calculando matriz A.')\n",
    "A=zeros((N,k+2))\n",
    "for j in range(k+2):\n",
    "    A[:,j]=funbase[j](x)\n",
    "\n",
    "print('Resolvendo o problema.')\n",
    "PseudoInvA = linalg.pinv(A)\n",
    "theta = PseudoInvA@y\n",
    "ychap = A@theta\n",
    "\n",
    "# graficando o resultado\n",
    "plt.figure()\n",
    "plt.plot(x,y,'ob',x,ychap,'.r')\n",
    "\n",
    "plt.figure()\n",
    "plt.scatter(y,ychap)\n",
    "print('Soma dos quadrados dos resíduos:',linalg.norm(y-ychap)**2)"
   ]
  },
  {
   "cell_type": "markdown",
   "metadata": {},
   "source": [
    "fazendo os testes para:\n",
    "\n",
    "k=2\n",
    "2 pontos de esquina a=array([0,3])\n",
    "obtive um resíduo r = 125.7650184956409\n",
    "\n",
    "k=3 \n",
    "3 pontos de esquina b=array([-4,0,3])\n",
    "obtive um resíduo r = 87.49392816517029, bem menor que o anterior, utilizando 2 pontos de esquinas a=array([0,3])\n",
    "\n",
    "\n",
    "k=4\n",
    " 4 pontos de esquina c=array([-4,-1,0 ,3])\n",
    "obtive um resíduo r =  85.59887655767045 menor para  k = 3 com os pontos de esquinas b=array([-4,0,3]), \n",
    "\n",
    "Utilizei esse números inteiros para as esquinas baseado na pesquisa da melhor combinação do vetor 'x'  dado em ic23dataset2.txt, onde encontrei as melhores combinações para ser um ponto de esquinas sendo elas\n",
    "\n",
    "k=2\n",
    "a=array([0.35354, 3.2828])\n",
    "r = 115.94834745716823\n",
    "\n",
    "k = 3\n",
    "b = ([-3.9899  ,  0.050505,  3.2828 ])\n",
    "r = 82.40268438975245\n",
    "\n",
    "k= 4\n",
    "c = array([-4.0909  , -0.65657 , -0.050505,  3.2828  ])\n",
    "r = 79.27546517887312\n",
    "\n",
    "esse código se encontra em "
   ]
  },
  {
   "cell_type": "code",
   "execution_count": null,
   "metadata": {},
   "outputs": [],
   "source": []
  }
 ],
 "metadata": {
  "kernelspec": {
   "display_name": "Python 3",
   "language": "python",
   "name": "python3"
  },
  "language_info": {
   "codemirror_mode": {
    "name": "ipython",
    "version": 3
   },
   "file_extension": ".py",
   "mimetype": "text/x-python",
   "name": "python",
   "nbconvert_exporter": "python",
   "pygments_lexer": "ipython3",
   "version": "3.8.5"
  }
 },
 "nbformat": 4,
 "nbformat_minor": 4
}
