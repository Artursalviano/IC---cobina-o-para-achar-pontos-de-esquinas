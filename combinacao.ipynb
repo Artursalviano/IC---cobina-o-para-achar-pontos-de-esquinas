{
 "cells": [
  {
   "cell_type": "code",
   "execution_count": 76,
   "metadata": {},
   "outputs": [],
   "source": [
    "import itertools as it\n",
    "from numpy import *\n",
    "import pandas as pd"
   ]
  },
  {
   "cell_type": "code",
   "execution_count": 77,
   "metadata": {},
   "outputs": [],
   "source": [
    "x, y = loadtxt('ic23dataset2.txt',unpack=True)\n",
    "N=len(x)"
   ]
  },
  {
   "cell_type": "code",
   "execution_count": 123,
   "metadata": {},
   "outputs": [
    {
     "name": "stdout",
     "output_type": "stream",
     "text": [
      "[[ 0.050505  0.45455   0.65657   0.85859 ]\n",
      " [-2.4747    0.050505  0.25253   4.1919  ]\n",
      " [-3.8889   -0.050505  2.4747    3.7879  ]\n",
      " ...\n",
      " [-1.1616    0.85859   1.3636    1.4646  ]\n",
      " [-2.7778   -2.0707   -1.9697    4.2929  ]\n",
      " [-1.9697    1.6667    2.8788    2.9798  ]]\n"
     ]
    },
    {
     "data": {
      "text/plain": [
       "array([0.050505, 0.45455 , 0.65657 , 0.85859 ])"
      ]
     },
     "execution_count": 123,
     "metadata": {},
     "output_type": "execute_result"
    }
   ],
   "source": [
    "comb = set(itertools.combinations(x, 4))#pegando as combinações e transformando em dicionários\n",
    "df = pd.DataFrame(comb) #transformando o dicionário em um DataFrame\n",
    "c =df.to_numpy() #transformando o DataFrame em uma matriz"
   ]
  },
  {
   "cell_type": "code",
   "execution_count": 124,
   "metadata": {},
   "outputs": [],
   "source": [
    "r=[] #criando uma lista para os resíduos\n",
    "for i in range(len(c)):\n",
    "    a = c[i,:]\n",
    "    k=len(a)\n",
    "    #print('Escolha dos',k,'pontos de esquina',a,'.')\n",
    "    funbase=[lambda x: ones(size(x)),lambda x: x] \n",
    "    for i in range(k):\n",
    "        funbase.append((lambda z: lambda x: maximum(x-z,0))(a[i]))\n",
    "    #print('Calculando matriz A.')\n",
    "    A=zeros((N,k+2))\n",
    "    for j in range(k+2):\n",
    "        A[:,j]=funbase[j](x)\n",
    "    \n",
    "\n",
    "    #print('Resolvendo o problema.')\n",
    "    PseudoInvA = linalg.pinv(A)\n",
    "    theta = PseudoInvA@y\n",
    "    ychap = A@theta\n",
    "    r.append(linalg.norm(y-ychap)**2) "
   ]
  },
  {
   "cell_type": "code",
   "execution_count": 125,
   "metadata": {},
   "outputs": [],
   "source": [
    "n =min(r) #pegando o menor valor do resídou na lista r"
   ]
  },
  {
   "cell_type": "code",
   "execution_count": 129,
   "metadata": {},
   "outputs": [
    {
     "data": {
      "text/plain": [
       "array([-4.0909  , -0.65657 , -0.050505,  3.2828  ])"
      ]
     },
     "execution_count": 129,
     "metadata": {},
     "output_type": "execute_result"
    }
   ],
   "source": [
    "c[r.index(n)] # pegando o vetor na mesma posição onde foi gerado o menor resíduo, assim tendo os pontos de esquina"
   ]
  }
 ],
 "metadata": {
  "kernelspec": {
   "display_name": "Python 3",
   "language": "python",
   "name": "python3"
  },
  "language_info": {
   "codemirror_mode": {
    "name": "ipython",
    "version": 3
   },
   "file_extension": ".py",
   "mimetype": "text/x-python",
   "name": "python",
   "nbconvert_exporter": "python",
   "pygments_lexer": "ipython3",
   "version": "3.8.5"
  }
 },
 "nbformat": 4,
 "nbformat_minor": 4
}
